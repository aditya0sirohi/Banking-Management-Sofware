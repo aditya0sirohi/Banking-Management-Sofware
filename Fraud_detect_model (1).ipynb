{
 "cells": [
  {
   "cell_type": "code",
   "execution_count": 1,
   "id": "635cb32a-efa8-48ed-96fb-4dfcd44ef072",
   "metadata": {},
   "outputs": [],
   "source": [
    "%matplotlib inline"
   ]
  },
  {
   "cell_type": "code",
   "execution_count": 2,
   "id": "e0e8278e-c3e1-4552-99bf-477698775d31",
   "metadata": {},
   "outputs": [],
   "source": [
    "import numpy as np\n",
    "import matplotlib.pyplot as plt\n",
    "import pandas as pd\n",
    "from sklearn.model_selection import train_test_split\n",
    "from sklearn.preprocessing import LabelEncoder\n",
    "from sklearn.ensemble import RandomForestClassifier\n",
    "from sklearn.metrics import classification_report, confusion_matrix\n",
    "import seaborn as sns"
   ]
  },
  {
   "cell_type": "code",
   "execution_count": 5,
   "id": "215bfef6-fa37-4be9-b17c-a880fd136a4f",
   "metadata": {
    "scrolled": true
   },
   "outputs": [
    {
     "data": {
      "text/html": [
       "<div>\n",
       "<style scoped>\n",
       "    .dataframe tbody tr th:only-of-type {\n",
       "        vertical-align: middle;\n",
       "    }\n",
       "\n",
       "    .dataframe tbody tr th {\n",
       "        vertical-align: top;\n",
       "    }\n",
       "\n",
       "    .dataframe thead th {\n",
       "        text-align: right;\n",
       "    }\n",
       "</style>\n",
       "<table border=\"1\" class=\"dataframe\">\n",
       "  <thead>\n",
       "    <tr style=\"text-align: right;\">\n",
       "      <th></th>\n",
       "      <th>step</th>\n",
       "      <th>type</th>\n",
       "      <th>amount</th>\n",
       "      <th>nameOrig</th>\n",
       "      <th>oldbalanceOrg</th>\n",
       "      <th>newbalanceOrig</th>\n",
       "      <th>nameDest</th>\n",
       "      <th>oldbalanceDest</th>\n",
       "      <th>newbalanceDest</th>\n",
       "      <th>isFraud</th>\n",
       "      <th>isFlaggedFraud</th>\n",
       "    </tr>\n",
       "  </thead>\n",
       "  <tbody>\n",
       "    <tr>\n",
       "      <th>0</th>\n",
       "      <td>1</td>\n",
       "      <td>PAYMENT</td>\n",
       "      <td>9839.64</td>\n",
       "      <td>C1231006815</td>\n",
       "      <td>170136.0</td>\n",
       "      <td>160296.36</td>\n",
       "      <td>M1979787155</td>\n",
       "      <td>0.0</td>\n",
       "      <td>0.0</td>\n",
       "      <td>0</td>\n",
       "      <td>0</td>\n",
       "    </tr>\n",
       "    <tr>\n",
       "      <th>1</th>\n",
       "      <td>1</td>\n",
       "      <td>PAYMENT</td>\n",
       "      <td>1864.28</td>\n",
       "      <td>C1666544295</td>\n",
       "      <td>21249.0</td>\n",
       "      <td>19384.72</td>\n",
       "      <td>M2044282225</td>\n",
       "      <td>0.0</td>\n",
       "      <td>0.0</td>\n",
       "      <td>0</td>\n",
       "      <td>0</td>\n",
       "    </tr>\n",
       "    <tr>\n",
       "      <th>2</th>\n",
       "      <td>1</td>\n",
       "      <td>TRANSFER</td>\n",
       "      <td>181.00</td>\n",
       "      <td>C1305486145</td>\n",
       "      <td>181.0</td>\n",
       "      <td>0.00</td>\n",
       "      <td>C553264065</td>\n",
       "      <td>0.0</td>\n",
       "      <td>0.0</td>\n",
       "      <td>1</td>\n",
       "      <td>0</td>\n",
       "    </tr>\n",
       "    <tr>\n",
       "      <th>3</th>\n",
       "      <td>1</td>\n",
       "      <td>CASH_OUT</td>\n",
       "      <td>181.00</td>\n",
       "      <td>C840083671</td>\n",
       "      <td>181.0</td>\n",
       "      <td>0.00</td>\n",
       "      <td>C38997010</td>\n",
       "      <td>21182.0</td>\n",
       "      <td>0.0</td>\n",
       "      <td>1</td>\n",
       "      <td>0</td>\n",
       "    </tr>\n",
       "    <tr>\n",
       "      <th>4</th>\n",
       "      <td>1</td>\n",
       "      <td>PAYMENT</td>\n",
       "      <td>11668.14</td>\n",
       "      <td>C2048537720</td>\n",
       "      <td>41554.0</td>\n",
       "      <td>29885.86</td>\n",
       "      <td>M1230701703</td>\n",
       "      <td>0.0</td>\n",
       "      <td>0.0</td>\n",
       "      <td>0</td>\n",
       "      <td>0</td>\n",
       "    </tr>\n",
       "  </tbody>\n",
       "</table>\n",
       "</div>"
      ],
      "text/plain": [
       "   step      type    amount     nameOrig  oldbalanceOrg  newbalanceOrig  \\\n",
       "0     1   PAYMENT   9839.64  C1231006815       170136.0       160296.36   \n",
       "1     1   PAYMENT   1864.28  C1666544295        21249.0        19384.72   \n",
       "2     1  TRANSFER    181.00  C1305486145          181.0            0.00   \n",
       "3     1  CASH_OUT    181.00   C840083671          181.0            0.00   \n",
       "4     1   PAYMENT  11668.14  C2048537720        41554.0        29885.86   \n",
       "\n",
       "      nameDest  oldbalanceDest  newbalanceDest  isFraud  isFlaggedFraud  \n",
       "0  M1979787155             0.0             0.0        0               0  \n",
       "1  M2044282225             0.0             0.0        0               0  \n",
       "2   C553264065             0.0             0.0        1               0  \n",
       "3    C38997010         21182.0             0.0        1               0  \n",
       "4  M1230701703             0.0             0.0        0               0  "
      ]
     },
     "execution_count": 5,
     "metadata": {},
     "output_type": "execute_result"
    }
   ],
   "source": [
    "df = pd.read_csv('C:/Users/adity/Downloads/Fraud.csv', encoding = 'latin-1')\n",
    "df.head()"
   ]
  },
  {
   "cell_type": "code",
   "execution_count": 7,
   "id": "f0fc21ae-c7ce-45c7-93ba-6943acdc96d4",
   "metadata": {},
   "outputs": [
    {
     "data": {
      "text/plain": [
       "({'0': {'precision': 0.9997419775064171,\n",
       "   'recall': 0.9999803289626912,\n",
       "   'f1-score': 0.9998611390297276,\n",
       "   'support': 1270904.0},\n",
       "  '1': {'precision': 0.9810174639331815,\n",
       "   'recall': 0.7975308641975308,\n",
       "   'f1-score': 0.8798093292475315,\n",
       "   'support': 1620.0},\n",
       "  'accuracy': 0.9997225985521687,\n",
       "  'macro avg': {'precision': 0.9903797207197993,\n",
       "   'recall': 0.8987555965801111,\n",
       "   'f1-score': 0.9398352341386296,\n",
       "   'support': 1272524.0},\n",
       "  'weighted avg': {'precision': 0.9997181400683897,\n",
       "   'recall': 0.9997225985521687,\n",
       "   'f1-score': 0.9997083058164861,\n",
       "   'support': 1272524.0}},\n",
       " array([[1270879,      25],\n",
       "        [    328,    1292]], dtype=int64),\n",
       " newbalanceDest    0.310346\n",
       " oldbalanceOrg     0.285032\n",
       " amount            0.160745\n",
       " step              0.098032\n",
       " oldbalanceDest    0.066391\n",
       " type              0.053221\n",
       " newbalanceOrig    0.025631\n",
       " isFlaggedFraud    0.000602\n",
       " dtype: float64)"
      ]
     },
     "execution_count": 7,
     "metadata": {},
     "output_type": "execute_result"
    }
   ],
   "source": [
    "df_model = df.copy()\n",
    "df_model = df_model.drop(['nameOrig', 'nameDest'], axis=1)\n",
    "\n",
    "\n",
    "le = LabelEncoder()\n",
    "df_model['type'] = le.fit_transform(df_model['type'])\n",
    "\n",
    "\n",
    "X = df_model.drop(['isFraud'], axis=1)\n",
    "y = df_model['isFraud']\n",
    "\n",
    "X_train, X_test, y_train, y_test = train_test_split(X, y, test_size=0.2, random_state=42)\n",
    "\n",
    "clf = RandomForestClassifier(random_state=42)\n",
    "clf.fit(X_train, y_train)\n",
    "\n",
    "y_pred = clf.predict(X_test)\n",
    "\n",
    "report = classification_report(y_test, y_pred, output_dict=True)\n",
    "conf_matrix = confusion_matrix(y_test, y_pred)\n",
    "\n",
    "feature_importance = pd.Series(clf.feature_importances_, index=X.columns).sort_values(ascending=False)\n",
    "\n",
    "report, conf_matrix, feature_importance"
   ]
  },
  {
   "cell_type": "code",
   "execution_count": 8,
   "id": "85099661-28f4-4973-9f6c-77174cc5aecf",
   "metadata": {},
   "outputs": [
    {
     "data": {
      "image/png": "[encoded data removed]",
      "text/plain": [
       "<Figure size 1000x600 with 1 Axes>"
      ]
     },
     "metadata": {},
     "output_type": "display_data"
    }
   ],
   "source": [
    "plt.figure(figsize=(10, 6))\n",
    "sns.boxplot(x='isFraud', y='amount', data=df)\n",
    "plt.title('Fraud Status')\n",
    "plt.show()"
   ]
  },
  {
   "cell_type": "code",
   "execution_count": 9,
   "id": "448cd438-32be-412e-9dd9-ed69a27f5ec7",
   "metadata": {},
   "outputs": [
    {
     "data": {
      "text/plain": [
       "'Q1)-> no missing values in data,outliers can be fixed via models robustness and ammount and balance shows large Variance\\nand checked correlations\\nQ2)->Random Forest classifier is used because it handles non linear data well and is also good for immbalanced data.our goal with it is to\\nclassify transactions on fraudulent and non fraudulent.\\nQ3)->choosed variables based on data corealtion and feature importance\\nQ4)->models performance is evaluated using feature importance,f1 score and confusion matrix\\nQ5)->key factors:\\n    Transaction Amount\\n    Old Balance of Sender\\n    Transaction Type\\n    New Balance of Sender\\n    Old Balance of Receiver\\nQ6)->these factors make sense because they showcase irregularities,large variance and specefic transaction like CASH_OUT\\nQ7)->real time fraud detection\\nQ8)->by comparing before and after of fraud rates or false posetives/negatives.'"
      ]
     },
     "execution_count": 9,
     "metadata": {},
     "output_type": "execute_result"
    }
   ],
   "source": [
    "'''Q1)-> no missing values in data,outliers can be fixed via models robustness and ammount and balance shows large Variance\n",
    "and checked correlations\n",
    "Q2)->Random Forest classifier is used because it handles non linear data well and is also good for immbalanced data.our goal with it is to\n",
    "classify transactions on fraudulent and non fraudulent.\n",
    "Q3)->choosed variables based on data corealtion and feature importance\n",
    "Q4)->models performance is evaluated using feature importance,f1 score and confusion matrix\n",
    "Q5)->key factors:\n",
    "    Transaction Amount\n",
    "    Old Balance of Sender\n",
    "    Transaction Type\n",
    "    New Balance of Sender\n",
    "    Old Balance of Receiver\n",
    "Q6)->these factors make sense because they showcase irregularities,large variance and specefic transaction like CASH_OUT\n",
    "Q7)->real time fraud detection\n",
    "Q8)->by comparing before and after of fraud rates or false posetives/negatives.'''"
   ]
  },
  {
   "cell_type": "code",
   "execution_count": null,
   "id": "b0f9ac3a-c9e4-4ea8-8c0a-f85c49c4ff66",
   "metadata": {},
   "outputs": [],
   "source": []
  }
 ],
 "metadata": {
  "kernelspec": {
   "display_name": "Python 3 (ipykernel)",
   "language": "python",
   "name": "python3"
  },
  "language_info": {
   "codemirror_mode": {
    "name": "ipython",
    "version": 3
   },
   "file_extension": ".py",
   "mimetype": "text/x-python",
   "name": "python",
   "nbconvert_exporter": "python",
   "pygments_lexer": "ipython3",
   "version": "3.12.0"
  }
 },
 "nbformat": 4,
 "nbformat_minor": 5
}
